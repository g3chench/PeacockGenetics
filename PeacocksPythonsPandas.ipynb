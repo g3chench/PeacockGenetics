{
  "metadata": {
    "kernelspec": {
      "name": "python",
      "display_name": "Python (Pyodide)",
      "language": "python"
    },
    "language_info": {
      "codemirror_mode": {
        "name": "python",
        "version": 3
      },
      "file_extension": ".py",
      "mimetype": "text/x-python",
      "name": "python",
      "nbconvert_exporter": "python",
      "pygments_lexer": "ipython3",
      "version": "3.8"
    }
  },
  "nbformat_minor": 5,
  "nbformat": 4,
  "cells": [
    {
      "id": "0f4fad43-92bd-4add-80c1-3f5a28b4d7ff",
      "cell_type": "code",
      "source": "",
      "metadata": {
        "trusted": true
      },
      "outputs": [],
      "execution_count": null
    },
    {
      "id": "39b87d40-cc7f-4736-9e8b-828c922ba077",
      "cell_type": "markdown",
      "source": "# Peacocks and Pythons; Oh My!",
      "metadata": {}
    },
    {
      "id": "098623eb-dae1-4dcc-a19e-370871dc7b49",
      "cell_type": "markdown",
      "source": "This notebook walks you through the basic python coding skills and Pandas library skills that you need to generate inoformation on peacock genetics.  It uses some sample genetics provided in the [Tumblr post where a program that manipulates peacock genetics was discussed](https://www.tumblr.com/kedreeva/777970704354312192/transparencies-are-a-a-heavy-load-but-would-still). Note that this is NOT intended to be website that is easy for Joe Shmoe to use to calculate the results of a particular peacock cross; this is intended to guide you through the skills needed to build the code that would support that website.",
      "metadata": {}
    },
    {
      "id": "1b2e22fd-f477-4940-a4aa-f6a1f05a4513",
      "cell_type": "markdown",
      "source": "Before we start, we import the necessary python libraries",
      "metadata": {}
    },
    {
      "id": "5c56e856-f163-4ecf-8c90-9118a507ae97",
      "cell_type": "code",
      "source": "import random",
      "metadata": {
        "trusted": true
      },
      "outputs": [],
      "execution_count": 74
    },
    {
      "id": "3e0f209c-024e-4d3f-91f8-bc9ecd5ffa72",
      "cell_type": "markdown",
      "source": "Then we need to create a table of genes for the peacocks.  These are the different chromasomal positions where traits could be stored in the peacoaks genetics. We also want to indicate if a particular gene is linked with another gene. As mentioned in the Tumblr post, peacock genetics are not super thuroughly known, so most genes will be unlinked.",
      "metadata": {}
    },
    {
      "id": "a9e4ca37-4b7f-41e9-bdbd-ee5d97d7e6e4",
      "cell_type": "markdown",
      "source": "To build this table, we create a python array, which is basically a list of items.  Since we are making a list of genes, we will name the array \"genes\".  Inside the array, each gene will be represented by another array, which will hold the information relate to that gene, such as the gene's name, and the linking type.  For each group of genes that are linked together, we will use a single linking type.",
      "metadata": {}
    },
    {
      "id": "9ebb1120-7110-4384-831a-afa5a8909f97",
      "cell_type": "markdown",
      "source": "A couple notes about Python:\n* Arrays are indicated with square braces: []\n* Items in an array are seperated with commas: ,\n* When creating data in Python that we will be using in the future, we give it a name, and then an equals sign, and then the data. this allows us to access that data in the future by simply using the name.  Most coding languages refer to these as variables.\n* If we want to have text in Python (for exampe, the name of a gene), we need to surround it with quotes: \"\".  This will let Python know that it is text data, instead of trying to parse it as a variable name or a special command word.\n* Lines that start with # are comments, and are not part of the program",
      "metadata": {}
    },
    {
      "id": "948f861c-5985-4bdc-a084-8180b9d9c169",
      "cell_type": "code",
      "source": "genes = [\n    # Short Name       Name              Link Type\n    [\"sex\",            \"Sex\",            \"sex\"],\n    [\"pur\",            \"Purple\",         \"sex\"],\n    [\"opl\",            \"Opal\",           \"none\"],\n    [\"cam\",            \"Cameo\",          \"none\"],\n    [\"haz\",            \"Hazel\",          \"none\"]\n]",
      "metadata": {
        "trusted": true
      },
      "outputs": [],
      "execution_count": 75
    },
    {
      "id": "d0c75f84-2c4d-48ed-a69d-480997255182",
      "cell_type": "markdown",
      "source": "Next, we need to create a table of alleles.  This is how we will primarily decide phenotypes for birds with simple genes, and will allow us to generate various genotypes.  These alleles should be connected to specific genes, and indicate whether they are recessive or dominant with a number, where higher number are more dominant. (For example, an allele that is recessive to everything would be 0, and an allele with a dominance of 1 would always be dominant to that recessive gene.  An allele with a dominance of 2 would be dominant to BOTH the 0 and 1 alleles.)",
      "metadata": {}
    },
    {
      "id": "07e6fcae-c104-4030-a652-3ff8f0d63f2c",
      "cell_type": "code",
      "source": "alleles = [\n    # Allele  Allele Name   Gene   Dominance\n    [\"m\",     \"Male\",       \"sex\", 1],\n    [\"f\",     \"Female\",     \"sex\", 0],\n    [\"w\",     \"Not Purple\", \"pur\", 0],\n    [\"Z(pl)\", \"Purple\",     \"pur\", 0],\n    [\"WT\",    \"Not Opal\",   \"opl\", 1],\n    [\"o\",     \"Opal\",       \"opl\", 0],\n    [\"C\",     \"Cameo\",      \"cam\", 1],\n    [\"c\",     \"Not Cameo\",  \"cam\", 0],\n    [\"H\",     \"Hazel\",      \"haz\", 1],\n    [\"h\",     \"Indigo\",     \"haz\", 0]\n]",
      "metadata": {
        "trusted": true
      },
      "outputs": [],
      "execution_count": 76
    },
    {
      "id": "ecea4feb-8c73-4647-9f93-6dff9bf390a6",
      "cell_type": "markdown",
      "source": "Now that we have a list of genes and alleles, we can create a peacock that has a specific genotype.  To do that, we are going to create a dictionary with arrays of alleles.  In Python, a dictionary allows you to accociate a \"key\" with a \"value\", and then search based on those keys.",
      "metadata": {}
    },
    {
      "id": "3bce592d-cf6e-489c-9fbc-4f156ff52d73",
      "cell_type": "code",
      "source": "malePeacock = {\n    \"sex\": [\"m\", \"f\"],\n    \"pur\": [\"Z(pl)\", \"Z(pl)\"],\n    \"opl\": [\"WT\", \"o\"],\n    \"cam\": [\"C\", \"c\"],\n    \"haz\": [\"H\", \"h\"]\n}",
      "metadata": {
        "trusted": true
      },
      "outputs": [],
      "execution_count": 77
    },
    {
      "id": "4f97049e-4a2f-4704-a858-81cd05b29ade",
      "cell_type": "markdown",
      "source": "Once we have a peacock, we can write out a human readable phenotype for the peacock by applying the list of alleles to the peacock, and matching the dominant/recessive genes. We do this by creating a for loop that looks at each key in the peacock dictionary, and determining if it is homo or het, and what the name of the most dominant allele is.",
      "metadata": {}
    },
    {
      "id": "d5e52faa-7f6b-480a-9003-b5edbd9ea060",
      "cell_type": "markdown",
      "source": "Python Notes:\n* Control statements are a special type of code that determines how to run the code after them.  In Python, control statements indicate the code they are responsible for by indents; all code that is managed by a particular control statement will be indented underneath it\n* A for loop is a control statement that runs a piece of code for a specific number of times. In this case, we are going to run it once for each gene.\n    * The `for x in y` statement creates a special variable that changes for each run of the for loop, and allows us to access each gene one at a time\n* An if statement is a control statement that only executes the code after it if the statement is true\n    * == checks if two values are the same\n    * != checks if two values are different",
      "metadata": {}
    },
    {
      "id": "da7e2ac5-e664-4b90-87a0-76a058d05197",
      "cell_type": "code",
      "source": "def calculateBasicPhenotype(peacock): # Create this code as a function so we can call it in several places\n    print(\"Phenotype for Peacock\")\n    \n    peacockPhenotype = {} # Holds final phenotype for reuse\n    \n    for gene in genes: # Look at each gene one at a time\n        geneId = gene[0]; # Get the short Name for a gene\n        geneAlleles = peacock[geneId]; # Get the genotype for the peacock for that specific gene\n    \n        geneName = gene[1];\n        \n        firstAllele = None;\n        secondAllele = None; # Set the alleles to none initally while we find the information for them\n        for allele in alleles: # Look at each allele one at a time\n            alleleGene = allele[2]\n            if alleleGene != geneId: # check if this is an allele for the gene we are looking at\n                continue # If it is not, ignore it and go to the next allele\n    \n            alleleId = allele[0]\n            if geneAlleles[0] == alleleId: # if the first allele in the peacock for this gene is the same as the one we are talking about\n                firstAllele = allele # Save it's data to the first allele\n    \n            if geneAlleles[1] == alleleId:# if the second allele in the peacock for this gene is the same as the one we are talking about\n                secondAllele = allele\n    \n            if firstAllele != None and secondAllele != None:\n                break;\n    \n        if firstAllele == None or secondAllele == None: # After we finish looking at all the alleles, if first and second have not been assigned\n            raise Exception(\"Peacock has an unknown allele in the \" + geneName + \" gene\") # then we should tell the user there was an issue\n    \n        isHet = \"het \" if geneAlleles[0] != geneAlleles[1] else \"\"\n    \n        firstAlleleDominance = firstAllele[3]\n        secondAlleleDominance = secondAllele[3]\n        alleleName = \"Unknown\"\n        if(firstAlleleDominance > secondAlleleDominance): # Save the phenotype as the more dominant allele\n            alleleName = firstAllele[1]\n        else:\n            alleleName = secondAllele[1]\n            \n        print(geneName + \": \" + isHet + alleleName)\n        peacockPhenotype[geneId] = alleleName\n\n    return peacockPhenotype\n\nmalePhenotype = calculateBasicPhenotype(malePeacock) # Call the phenotype calculation on our male peacock",
      "metadata": {
        "trusted": true
      },
      "outputs": [
        {
          "name": "stdout",
          "output_type": "stream",
          "text": "Phenotype for Peacock\nSex: het Male\nPurple: Purple\nOpal: het Not Opal\nCameo: het Cameo\nHazel: het Hazel\n"
        }
      ],
      "execution_count": 89
    },
    {
      "id": "e3e6c99d-884c-4adf-a997-f1e2ad36cc75",
      "cell_type": "markdown",
      "source": "Now that we can list the phenotypes for a peacock, we can start handling exceptional cases, such as peach.  To do this, we are going to use if-else control statements, to override the default phenotypes.",
      "metadata": {}
    },
    {
      "id": "5c6c7feb-9f89-4014-b327-6283d4b64c74",
      "cell_type": "code",
      "source": "def calculateAdvancedPhenotype(peacockPhenotype):\n    print(\"Additional phenotype information for peacock:\")\n    \n    if (peacockPhenotype[\"pur\"] == \"Purple\" and peacockPhenotype[\"cam\"] == \"Cameo\"):\n        print(\"Peach: Peach - Overrides other feather colors\")\n    \n    if(peacockPhenotype[\"haz\"] == \"Hazel\"):\n        print(\"Has a possibility of being indigo instead of hazel\")\n    \n    if(peacockPhenotype[\"haz\"] == \"Indigo\"):\n        print(\"Has a possibility of being hazel instead of indigo\")\n\ncalculateAdvancedPhenotype(malePhenotype)",
      "metadata": {
        "trusted": true
      },
      "outputs": [
        {
          "name": "stdout",
          "output_type": "stream",
          "text": "Additional phenotype information for peacock:\nPeach: Peach - Overrides other feather colors\nHas a possibility of being indigo instead of hazel\n"
        }
      ],
      "execution_count": 86
    },
    {
      "id": "43872b04-355e-43b3-8e5d-32466a8604ee",
      "cell_type": "markdown",
      "source": "We can also create a female peacock, and run a similar analysis on her",
      "metadata": {}
    },
    {
      "id": "ddd5bf1d-dd9a-4824-ad63-0f1cf62be908",
      "cell_type": "code",
      "source": "femalePeacock = {\n    \"sex\": [\"f\", \"f\"],\n    \"pur\": [\"w\", \"w\"],\n    \"opl\": [\"o\", \"o\"],\n    \"cam\": [\"c\", \"c\"],\n    \"haz\": [\"h\", \"h\"]\n}\n\nfemalePhenotype = calculateBasicPhenotype(femalePeacock)\ncalculateAdvancedPhenotype(femalePhenotype)",
      "metadata": {
        "trusted": true
      },
      "outputs": [
        {
          "name": "stdout",
          "output_type": "stream",
          "text": "Phenotype for Peacock\nSex: Female\nPurple: Not Purple\nOpal: Opal\nCameo: Not Cameo\nHazel: Indigo\n{'sex': 'Female', 'pur': 'Not Purple', 'opl': 'Opal', 'cam': 'Not Cameo', 'haz': 'Indigo'}\nAdditional phenotype information for peacock:\nHas a possibility of being hazel instead of indigo\n"
        }
      ],
      "execution_count": 87
    },
    {
      "id": "2710f264-9893-476f-86e9-9a1a7b74e02e",
      "cell_type": "markdown",
      "source": "Now that we can properly identify the phenotype of any specific bird, we can start generating children from a breeding pair.  We'll start by generating a single random child from two parents.  Note that because this uses random generation, the results will be different every time you run the code",
      "metadata": {}
    },
    {
      "id": "954c73d5-d5ec-43ee-8558-7445c2a8f56a",
      "cell_type": "code",
      "source": "def generateRandomChild(male, female):\n    childGenotype = {} # Holds final phenotype for reuse\n    \n    for gene in genes:\n        geneId = gene[0]\n        maleAlleles = male[geneId]\n        femaleAlleles = female[geneId]\n\n        childGenotype[geneId] = [maleAlleles[random.randint(0, 1)], femaleAlleles[random.randint(0, 1)]]\n    \n    print(\"Generated Child: \" + childGenotype)\n    return childGenotype\n\nchildPeacock = generateRandomChild(malePeacock, femalePeacock)\nchildPhenotype = calculateBasicPhenotype(childPeacock)\ncalculateAdvancedPhenotype(childPhenotype)",
      "metadata": {
        "trusted": true
      },
      "outputs": [
        {
          "name": "stdout",
          "output_type": "stream",
          "text": "{'sex': ['f', 'f'], 'pur': ['Z(pl)', 'w'], 'opl': ['WT', 'o'], 'cam': ['c', 'c'], 'haz': ['H', 'h']}\nPhenotype for Peacock\nSex: Female\nPurple: het Not Purple\nOpal: het Not Opal\nCameo: Not Cameo\nHazel: het Hazel\nAdditional phenotype information for peacock:\nHas a possibility of being indigo instead of hazel\n"
        }
      ],
      "execution_count": 90
    },
    {
      "id": "838c4c39-ac0f-4993-8852-44576e4037fe",
      "cell_type": "markdown",
      "source": "With that, you could generate a random clutch from the two parents, simply by calling the random child generator as many times as you want",
      "metadata": {}
    },
    {
      "id": "a2b35b89-fb7d-4ec5-97b4-5af0b2585ad9",
      "cell_type": "code",
      "source": "",
      "metadata": {
        "trusted": true
      },
      "outputs": [],
      "execution_count": null
    }
  ]
}