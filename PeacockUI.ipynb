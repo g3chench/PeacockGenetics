{
  "metadata": {
    "kernelspec": {
      "name": "python",
      "display_name": "Python (Pyodide)",
      "language": "python"
    },
    "language_info": {
      "codemirror_mode": {
        "name": "python",
        "version": 3
      },
      "file_extension": ".py",
      "mimetype": "text/x-python",
      "name": "python",
      "nbconvert_exporter": "python",
      "pygments_lexer": "ipython3",
      "version": "3.8"
    }
  },
  "nbformat_minor": 5,
  "nbformat": 4,
  "cells": [
    {
      "id": "39ab4897-c8b7-4d4a-98c9-7e42af783929",
      "cell_type": "markdown",
      "source": "# Peacock Creator\n\nUse this notebook to create peacocks and visualize the results of breeding pairs, and to see the possible genetic makeup of various peacocks",
      "metadata": {}
    },
    {
      "id": "16c575cc-e2c2-46b3-a10a-9f9953567240",
      "cell_type": "markdown",
      "source": "The following code installs all neccessary code libraries for the visualization",
      "metadata": {}
    },
    {
      "id": "52d74091-8e42-4270-b2e1-c07b313e9a93",
      "cell_type": "code",
      "source": "%pip install -q ipywidgets",
      "metadata": {
        "trusted": true
      },
      "outputs": [],
      "execution_count": 2
    },
    {
      "id": "135fd673-3280-4ad3-978c-9d8ccf783c44",
      "cell_type": "code",
      "source": "import ipywidgets as widgets",
      "metadata": {
        "trusted": true
      },
      "outputs": [],
      "execution_count": 3
    },
    {
      "id": "924fa4ab-80c8-4d48-93f0-5e5803c197f9",
      "cell_type": "markdown",
      "source": "Use the following widget to add unique features to a peacock, and select the peacock's sex.  Any features that are not added to the peacock will be assumed to be wild type",
      "metadata": {}
    },
    {
      "id": "87123726-1c52-4fe7-85ad-2093af565932",
      "cell_type": "code",
      "source": "def createPeacockWidgets(peacockName):\n    autosomalColor = widgets.TagsInput(\n        value=[],\n        allowed_tags=['Bronze', 'Opal', 'Midnight', 'Jade', 'Charcoal', 'Steel', 'Ultramarine', 'Burnt Umber'],\n        allow_duplicates=False\n    )\n    \n    sexLinkedColor = widgets.TagsInput(\n        value=[],\n        allowed_tags=['Cameo', 'American Purple', 'Sonja\\'s Violeta', 'European Violet'],\n        allow_duplicates=False\n    )\n    \n    pattern = widgets.TagsInput(\n        value=[],\n        allowed_tags=['Blackshoulder'],\n        allow_duplicates=False\n    )\n    \n    leucistic = widgets.TagsInput(\n        value=[],\n        allowed_tags=['White', 'Pied', 'White eye', 'Silver White Eye'],\n        allow_duplicates=False\n    )\n    \n    multiGeneColors = widgets.TagsInput(\n        value=[],\n        allowed_tags=['Taupe', 'Platinum', 'Mocha', 'Ivory', 'Peach', 'Indigo', 'Hazel'],\n        allow_duplicates=False\n    )\n\n    return (\n        widgets.VBox([\n            widgets.Label(value=peacockName),\n            widgets.HBox([widgets.Label(value=\"Autosomal Color: \"), autosomalColor]),\n            widgets.HBox([widgets.Label(value=\"Sex-Linked Color: \"), sexLinkedColor]),\n            widgets.HBox([widgets.Label(value=\"Pattern: \"), pattern]),\n            widgets.HBox([widgets.Label(value=\"Leucistic: \"), leucistic]),\n            widgets.HBox([widgets.Label(value=\"Multi-gene Colors: \"), multiGeneColors])\n        ]),\n        {\n            'autosomal': autosomalColor,\n            'sexLinked': sexLinkedColor,\n            'pattern': pattern,\n            'leucistic': leucistic,\n            'multiGene': multiGeneColors\n        }\n    )\n\ndisplay(widgets.Label(value=\"Click the boxes to add peacock attributes; to add more than one item in a slot, simply click on one of the existing attributes or the empty space next to the last item.\"))\n(maleWidgetsBox, maleWidgets) = createPeacockWidgets(\"Male Peacock\")\n(femalemaleWidgetsBox, femaleWidgets) = createPeacockWidgets(\"Female Peacock\")\ndisplay(",
      "metadata": {
        "trusted": true
      },
      "outputs": [
        {
          "output_type": "display_data",
          "data": {
            "text/plain": "Label(value='Click the boxes to add peacock attributes; to add more than one item in a slot, simply click on o…",
            "application/vnd.jupyter.widget-view+json": {
              "version_major": 2,
              "version_minor": 0,
              "model_id": "b7effd4ccc044aa198669ca7aa76cfa3"
            }
          },
          "metadata": {}
        },
        {
          "output_type": "display_data",
          "data": {
            "text/plain": "HBox(children=(Label(value='Autosomal Color: '), TagsInput(value=[], allow_duplicates=False, allowed_tags=['Br…",
            "application/vnd.jupyter.widget-view+json": {
              "version_major": 2,
              "version_minor": 0,
              "model_id": "362e354a980543cfb220440d534ec071"
            }
          },
          "metadata": {}
        },
        {
          "output_type": "display_data",
          "data": {
            "text/plain": "HBox(children=(Label(value='Sex-Linked Color: '), TagsInput(value=[], allow_duplicates=False, allowed_tags=['C…",
            "application/vnd.jupyter.widget-view+json": {
              "version_major": 2,
              "version_minor": 0,
              "model_id": "46629a2e70f2437c91e18b268eb33aa1"
            }
          },
          "metadata": {}
        },
        {
          "output_type": "display_data",
          "data": {
            "text/plain": "HBox(children=(Label(value='Pattern: '), TagsInput(value=[], allow_duplicates=False, allowed_tags=['Blackshoul…",
            "application/vnd.jupyter.widget-view+json": {
              "version_major": 2,
              "version_minor": 0,
              "model_id": "36a72330d0a247eabe4b741e1322e22b"
            }
          },
          "metadata": {}
        },
        {
          "output_type": "display_data",
          "data": {
            "text/plain": "HBox(children=(Label(value='Leucistic: '), TagsInput(value=[], allow_duplicates=False, allowed_tags=['White', …",
            "application/vnd.jupyter.widget-view+json": {
              "version_major": 2,
              "version_minor": 0,
              "model_id": "26c0f77b18f7435ba9d968060b79b019"
            }
          },
          "metadata": {}
        },
        {
          "output_type": "display_data",
          "data": {
            "text/plain": "HBox(children=(Label(value='Multi-gene Colors: '), TagsInput(value=[], allow_duplicates=False, allowed_tags=['…",
            "application/vnd.jupyter.widget-view+json": {
              "version_major": 2,
              "version_minor": 0,
              "model_id": "902d4f536d2245daa5e2e4b031179ac6"
            }
          },
          "metadata": {}
        }
      ],
      "execution_count": 11
    },
    {
      "id": "76102537-dbff-4e81-9b78-2488d9f0d3db",
      "cell_type": "code",
      "source": "",
      "metadata": {
        "trusted": true
      },
      "outputs": [
        {
          "name": "stdout",
          "output_type": "stream",
          "text": "[]\n"
        }
      ],
      "execution_count": 9
    },
    {
      "id": "ff33b25e-476a-460b-99c7-b1bd15f8edf0",
      "cell_type": "code",
      "source": "",
      "metadata": {
        "trusted": true
      },
      "outputs": [],
      "execution_count": null
    }
  ]
}