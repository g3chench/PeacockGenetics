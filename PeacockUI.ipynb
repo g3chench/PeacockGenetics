{
  "metadata": {
    "kernelspec": {
      "name": "python",
      "display_name": "Python (Pyodide)",
      "language": "python"
    },
    "language_info": {
      "codemirror_mode": {
        "name": "python",
        "version": 3
      },
      "file_extension": ".py",
      "mimetype": "text/x-python",
      "name": "python",
      "nbconvert_exporter": "python",
      "pygments_lexer": "ipython3",
      "version": "3.8"
    }
  },
  "nbformat_minor": 5,
  "nbformat": 4,
  "cells": [
    {
      "id": "39ab4897-c8b7-4d4a-98c9-7e42af783929",
      "cell_type": "markdown",
      "source": "# Peacock Creator\n\nUse this notebook to create peacocks and visualize the results of breeding pairs, and to see the possible genetic makeup of various peacocks",
      "metadata": {}
    },
    {
      "id": "16c575cc-e2c2-46b3-a10a-9f9953567240",
      "cell_type": "markdown",
      "source": "The following code installs all neccessary code libraries for the visualization",
      "metadata": {}
    },
    {
      "id": "52d74091-8e42-4270-b2e1-c07b313e9a93",
      "cell_type": "code",
      "source": "%pip install -q ipywidgets",
      "metadata": {
        "trusted": true
      },
      "outputs": [],
      "execution_count": 12
    },
    {
      "id": "135fd673-3280-4ad3-978c-9d8ccf783c44",
      "cell_type": "code",
      "source": "import ipywidgets as widgets",
      "metadata": {
        "trusted": true
      },
      "outputs": [],
      "execution_count": 13
    },
    {
      "id": "924fa4ab-80c8-4d48-93f0-5e5803c197f9",
      "cell_type": "markdown",
      "source": "Use the following widget to add unique features to a peacock, and select the peacock's sex.  Any features that are not added to the peacock will be assumed to be wild type",
      "metadata": {}
    },
    {
      "id": "39b19dbd-9492-47e8-a8fc-d3ca91226699",
      "cell_type": "code",
      "source": "# Define color genes\ncolorGenes = [\n    # Note: the \"default\" gene aka Wild Type is not included because it is a special\n    # case that can apply to alleles of any gene\n    { 'notation': 'br',      'name': 'Bronze' },\n    { 'notation': 'o',       'name': 'Opal' },\n    { 'notation': 'md',      'name': 'Midnight' },\n    { 'notation': 'j',       'name': 'Jade' },\n    { 'notation': 'mo',      'name': 'Montana' },\n    { 'notation': 'ch',      'name': 'Charcoal' },\n    { 'notation': 'st',      'name': 'Steel' },\n    { 'notation': 'um',      'name': 'Ultramarine' },\n    { 'notation': 'bu',      'name': 'Burnt Umber' }\n]\n\nsexLinkedColorAllotypes = [\n    { 'notation': 'Z(c)',    'name': 'Cameo' },\n    { 'notation': 'Z(pl)',   'name': 'American Purple' },\n    { 'notation': 'Z(va)',   'name': 'Sonja\\'s Violet' },\n    { 'notation': 'Z(ve)',   'name': 'European Violet' },\n    # Note: even though peach is actually 2 genes, we are treating\n    # it as one for the sake of this code, and dealing with het Peach\n    # as a special phenotype\n    { 'notation': 'Z(pl:c)', 'name': 'Peach' }\n]\n\n# Define what genes combinations form special colors\nmultiGeneColors = [\n    { 'name': 'Platinum',      'genes': ['br', 'o']}\n]\n\nsexAndAutosomalComboColors = [\n    { 'name': 'Taupe',         'autosomalColor': 'o',  'sexColor': 'Z(pl)' },\n    { 'name': 'Mocha',         'autosomalColor': 'md', 'sexColor': 'Z(pl)' },\n    { 'name': 'Ivory',         'autosomalColor': 'o',  'sexColor': 'Z(c)' },\n    { 'name': 'Indigo',        'autosomalColor': 'br', 'sexColor': 'Z(pl)' },\n    { 'name': 'Hazel',         'autosomalColor': 'br', 'sexColor': 'Z(pl)' }\n]\n\nhetSexColors = [\n    { 'name': 'Midway between Violet and Purple', 'alleles': ['Z(pl)', 'Z(ve)'] }\n]\n\n# Define pattern genes\npatternGenes = [\n    { 'notation': 'bs',      'name': 'Blackshoulder' }\n]\n\n# Define leucistic genes\nleucisticGenes = [\n    { 'notation': 'p',       'name': 'Pied' },\n    { 'notation': 'WE',       'name': 'White Eye' }\n]\n\npiedAllotypes = [\n    { 'notation': 'p',       'name': 'Dark Pied' },\n    { 'notation': 'W',       'name': 'White' }\n]\n\nwhiteEyeAllotypes = [\n    { 'notation': 'WE',      'name': 'White Eye' },\n    { 'notation': 'sWE',     'name': 'Silver White Eye' }\n]\n\n# Define lucistic special cases\nhetLeucistic = [\n    { 'name': 'Pied', 'alleles': ['W', 'p'] }\n]",
      "metadata": {
        "trusted": true
      },
      "outputs": [],
      "execution_count": 14
    },
    {
      "id": "76102537-dbff-4e81-9b78-2488d9f0d3db",
      "cell_type": "code",
      "source": "# This function creates a handful of widgets that\n# allow users to select the phenotype of a bird\n# If we then assume all traits breed true, we\n# can generate a genotype without making the\n# user understand bird genetics\ndef createPeacockPhenotypeWidgets(peacockName):\n    colorList = (['Wild Type'] + \n        # TECH EXPLANATION\n        # lambda indicates an inline function\n        # map() means that the lambda function is called for each item in the colorGenes array\n        # It converts each gene's dictionary into just the name column\n        # list() turns that map back into an array\n        # The goal here is to make sure all genes show up as human readable options \n        # in the list, and they don't get out of sync with each other\n        list(map(lambda gene: gene['name'], colorGenes)) + \n        list(map(lambda allotype: allotype['name'], sexLinkedColorAllotypes)) +\n        list(map(lambda phenotype: phenotype['name'], multiGeneColors)) +\n        list(map(lambda phenotype: phenotype['name'], sexAndAutosomalComboColors)) +\n        list(map(lambda phenotype: phenotype['name'], hetSexColors)))\n        \n    \n    color = widgets.Dropdown(\n        options=colorList,\n        value=colorList[0],\n        description='Color:',\n        disabled=False,\n    )\n\n    # See colorList for technical explanation\n    patternList = (['Barred Wing Wild Type'] +\n        list(map(lambda gene: gene['name'], patternGenes)))\n    pattern = widgets.Dropdown(\n        options=patternList,\n        value=patternList[0],\n        description='Pattern:',\n        disabled=False,\n    )\n    \n    # See colorList for technical explanation\n    leucisticList = (['Non-Leucistic Wild Type'] +\n       list(map(lambda allotype: allotype['name'], piedAllotypes)) +\n       list(map(lambda allotype: allotype['name'], whiteEyeAllotypes)) +\n       list(map(lambda phenotype: phenotype['name'], hetLeucistic)))\n    \n    leucistic = widgets.Dropdown(\n        options=leucisticList,\n        value=leucisticList[0],\n        description='Leucistic:',\n        disabled=False,\n    )\n\n    return (\n        widgets.VBox([\n            widgets.Label(value=peacockName),\n            color, pattern, leucistic\n        ]),\n        {\n            'color': color,\n            'pattern': pattern,\n            'leucistic': leucistic\n        }\n    )\n\ndisplay(widgets.Label(value=\"Enter phsyical traits for a breeding pair of peacocks. Note: Traits with multiple ways to obtain them will be assumed to breed true (ie homozygous)\"))\n(maleWidgetsBox, maleWidgets) = createPeacockPhenotypeWidgets(\"Male Peacock\")\n(femaleWidgetsBox, femaleWidgets) = createPeacockPhenotypeWidgets(\"Female Peacock\")\ndisplay(widgets.HBox([maleWidgetsBox,femaleWidgetsBox]))",
      "metadata": {
        "trusted": true
      },
      "outputs": [
        {
          "output_type": "display_data",
          "data": {
            "text/plain": "Label(value='Enter phsyical traits for a breeding pair of peacocks. Note: Traits with multiple ways to obtain …",
            "application/vnd.jupyter.widget-view+json": {
              "version_major": 2,
              "version_minor": 0,
              "model_id": "10b021ebd0744142bc660182389ec215"
            }
          },
          "metadata": {}
        },
        {
          "output_type": "display_data",
          "data": {
            "text/plain": "HBox(children=(VBox(children=(Label(value='Male Peacock'), Dropdown(description='Color:', options=('Wild Type'…",
            "application/vnd.jupyter.widget-view+json": {
              "version_major": 2,
              "version_minor": 0,
              "model_id": "14978536fa804529b77a5a67c22e1a35"
            }
          },
          "metadata": {}
        }
      ],
      "execution_count": 15
    },
    {
      "id": "dda1f870-c74f-4000-be54-ab1b30dee058",
      "cell_type": "markdown",
      "source": "If you want to look at more complex pairings, including outcrosses, you can also edit the bird's geneotype below. Changes to the genotype will also change the phenotype inputs, so that both types of inputs show the same bird.",
      "metadata": {}
    },
    {
      "id": "72eb778f-3287-48b1-86b1-08554631eed5",
      "cell_type": "code",
      "source": "# This lets us turn a single gene into a genotype widget\n# We will run this function over all the autosomal color genes\n# and the shoulder genes to generate appr\ndef createGenotypeWidgetFromGene(gene):\n    possibilities = [\n        'WT/WT', \n        'WT/' + gene['notation'],\n        gene['notation'] + '/' + gene['notation']\n    ]\n    return widgets.Dropdown(\n        options=possibilities,\n        value=possibilities[0],\n        description=gene['name'] + ':',\n        disabled=False,\n    )\n\ndef saveGenotypeToBird(bird, geneName, genotype):\n    bird[geneName] = genotype\n\n# This converts a phenotype to a genotype in a bird\n# assuming the phenotype breeds true\ndef saveColorPhenotypeToBird(bird, phenotype, sex):\n    foundPhenotype = False\n    \n    # Check normal color genes\n    for gene in colorGenes:\n        # If the current gene we are checking matches the selected\n        # phenotype, set the genotype in the bird equal to homozygous\n        # for the color\n        if phenotype == gene['name']:\n            bird[phenotype] = gene['notation'] + '/' + gene['notation']\n            foundPhenotype = True\n        # If the current gene we are checking does not match the phenotype\n        # we should clear the genotype for that gene\n        else:\n            del bird[gene['name']]\n\n    # Reset sex-linked colors to default wild type\n    if sex == 'Male':\n        bird['sex'] = 'Z(WT)/Z(WT)'\n    else: \n        bird['sex'] = 'Z(WT)/w'\n        \n    # Check all sex-linked allotypes the same way we checked the autosomal\n    # genes\n    for allotype in sexLinkedColorAllotypes:\n        if phenotype == allotype['name']:\n            if sex == 'Male':\n                bird['sex'] = allotype['notation'] + '/' + gene['notation']\n            else: \n                bird['sex'] = allotype['notation'] + '/w'\n            foundPhenotype = True\n\n    # At this point, all color genes have been cleared\n    # except for a matched phenotype\n    # If we have found the matching phenotype already,\n    # we can stop here\n    if foundPhenotype:\n        return\n\n    # Save the phenotype data for genotypes that match multiple genes\n    for color in multiGeneColors:\n        if phenotype == color['name']:\n            # for each gene that makes up the multi-gene color\n            for colorGeneNotation in color['genes']:\n                # find that gene in the gene list and save it to the bird\n                for gene in colorGenes:\n                    if gene['notation'] == colorGeneNotation:\n                        bird[gene['name']] = gene['notation'] + '/' + gene['notation']\n\n    # Save the phoenotype data for genes that require both autosomal and sex-linked color\n    for color in sexAndAutosomalComboColors:\n        if phenotype == color['name']:\n            # Save autosomal phenotype\n            for gene in colorGenes:\n                if gene['notation'] == color['autosomalColor']:\n                    bird[gene['name']] = gene['notation'] + '/' + gene['notation']\n\n            # Save sex phenotype\n            for allotype in sexLinkedColorAllotypes:\n                if allotype['notation'] == color['sexColor']:\n                    if sex == 'Male':\n                        bird['sex'] = allotype['notation'] + '/' + gene['notation']\n                    else: \n                        bird['sex'] = allotype['notation'] + '/w'\n        \ndef getColorFromBird(bird, sex):\n    # Set sex to default if not defined so we don't \n    # break things when we try to check the sex-linked color\n    if not 'sex' in bird:\n        if sex == 'Male':\n            bird['sex'] = 'Z(WT)/Z(WT)'\n        else: \n            bird['sex'] = 'Z(WT)/w'\n\n    # Check bird color matches multigene\n\n    # Check bird color matches sexAndAutosomal Combo\n\n    # Check if bird color matches any simple colors\n        ",
      "metadata": {
        "trusted": true
      },
      "outputs": [],
      "execution_count": 16
    },
    {
      "id": "c1634c9f-266b-4a5c-8304-b7e5814a02dc",
      "cell_type": "code",
      "source": "def createPeacockGenotypeWidgets(peacockName):\n    # For each possible color, create a widget with genotype options\n    colorWidgets = list(map(lambda gene: createGenotypeWidgetFromGene(gene), colorGenes))\n\n    return (\n        widgets.VBox([widgets.Label(value=peacockName)] + colorWidgets),\n        {\n            'colors': colorWidgets\n        }\n    )\n\n(maleWidgets,maleData) = createPeacockGenotypeWidgets(\"Male Peacock\")\ndisplay(maleWidgets)",
      "metadata": {
        "trusted": true
      },
      "outputs": [
        {
          "output_type": "display_data",
          "data": {
            "text/plain": "VBox(children=(Label(value='Male Peacock'), Dropdown(description='Bronze:', options=('WT/WT', 'WT/br', 'br/br'…",
            "application/vnd.jupyter.widget-view+json": {
              "version_major": 2,
              "version_minor": 0,
              "model_id": "96fc69c1dbfa4551a62ddc781fba2c50"
            }
          },
          "metadata": {}
        }
      ],
      "execution_count": 19
    },
    {
      "id": "9e901d11-ffb0-4319-ad53-308c5f9cd1ed",
      "cell_type": "code",
      "source": "",
      "metadata": {
        "trusted": true
      },
      "outputs": [],
      "execution_count": null
    },
    {
      "id": "8d39f0a1-2eb8-4b82-96c2-4728ccd40c6b",
      "cell_type": "code",
      "source": "",
      "metadata": {},
      "outputs": [],
      "execution_count": null
    }
  ]
}
