{
  "metadata": {
    "kernelspec": {
      "name": "python",
      "display_name": "Python (Pyodide)",
      "language": "python"
    },
    "language_info": {
      "codemirror_mode": {
        "name": "python",
        "version": 3
      },
      "file_extension": ".py",
      "mimetype": "text/x-python",
      "name": "python",
      "nbconvert_exporter": "python",
      "pygments_lexer": "ipython3",
      "version": "3.8"
    }
  },
  "nbformat_minor": 5,
  "nbformat": 4,
  "cells": [
    {
      "id": "39ab4897-c8b7-4d4a-98c9-7e42af783929",
      "cell_type": "markdown",
      "source": "# Peafowl Creator\n\nUse this notebook to create peacocks and visualize the results of breeding pairs, and to see the possible genetic makeup of various peafowl",
      "metadata": {}
    },
    {
      "id": "16c575cc-e2c2-46b3-a10a-9f9953567240",
      "cell_type": "markdown",
      "source": "The following code installs all neccessary code libraries for the visualization",
      "metadata": {}
    },
    {
      "id": "52d74091-8e42-4270-b2e1-c07b313e9a93",
      "cell_type": "code",
      "source": "%pip install -q ipywidgets",
      "metadata": {
        "trusted": true
      },
      "outputs": [],
      "execution_count": 92
    },
    {
      "id": "135fd673-3280-4ad3-978c-9d8ccf783c44",
      "cell_type": "code",
      "source": "import ipywidgets as widgets",
      "metadata": {
        "trusted": true
      },
      "outputs": [],
      "execution_count": 93
    },
    {
      "id": "924fa4ab-80c8-4d48-93f0-5e5803c197f9",
      "cell_type": "markdown",
      "source": "Use the following widget to add unique features to a peafowl, and select the peafowl's sex.  Any features that are not added to the peafowl will be assumed to be wild type",
      "metadata": {}
    },
    {
      "id": "39b19dbd-9492-47e8-a8fc-d3ca91226699",
      "cell_type": "code",
      "source": "# Define color genes\ncolorGenes = [\n    # Note: the \"default\" gene aka Wild Type is not included because it is a special\n    # case that can apply to alleles of any gene\n    { 'notation': 'br',      'name': 'Bronze' },\n    { 'notation': 'o',       'name': 'Opal' },\n    { 'notation': 'md',      'name': 'Midnight' },\n    { 'notation': 'j',       'name': 'Jade' },\n    { 'notation': 'mo',      'name': 'Montana' },\n    { 'notation': 'ch',      'name': 'Charcoal' },\n    { 'notation': 'st',      'name': 'Steel' },\n    { 'notation': 'um',      'name': 'Ultramarine' },\n    { 'notation': 'bu',      'name': 'Burnt Umber' }\n]\n\nsexLinkedColorAllotypes = [\n    { 'notation': 'Z(c)',    'name': 'Cameo' },\n    { 'notation': 'Z(pl)',   'name': 'American Purple' },\n    { 'notation': 'Z(va)',   'name': 'Sonja\\'s Violet' },\n    { 'notation': 'Z(ve)',   'name': 'European Violet' },\n    # Note: even though peach is actually 2 genes, we are treating\n    # it as one for the sake of this code, and dealing with het Peach\n    # as a special phenotype\n    { 'notation': 'Z(pl:c)', 'name': 'Peach' }\n]\n\n# Define what genes combinations form special colors\nmultiGeneColors = [\n    { 'name': 'Platinum',      'genes': ['br', 'o']}\n]\n\nsexAndAutosomalComboColors = [\n    { 'name': 'Taupe',         'autosomalColor': 'o',  'sexColor': 'Z(pl)' },\n    { 'name': 'Mocha',         'autosomalColor': 'md', 'sexColor': 'Z(pl)' },\n    { 'name': 'Ivory',         'autosomalColor': 'o',  'sexColor': 'Z(c)' },\n    { 'name': 'Indigo',        'autosomalColor': 'br', 'sexColor': 'Z(pl)' },\n    { 'name': 'Hazel',         'autosomalColor': 'br', 'sexColor': 'Z(pl)' }\n]\n\nhetSexColors = [\n    { 'name': 'Midway between Violet and Purple', 'alleles': ['Z(pl)', 'Z(ve)'] }\n]\n\n# Define pattern genes\npatternGenes = [\n    { 'notation': 'bs',      'name': 'Blackshoulder' }\n]\n\n# Define leucistic genes\nleucisticGenes = [\n    { 'notation': 'p',       'name': 'Pied' },\n    { 'notation': 'WE',       'name': 'White Eye' }\n]\n\npiedAllotypes = [\n    { 'notation': 'p',       'name': 'Dark Pied' },\n    { 'notation': 'W',       'name': 'White' }\n]\n\nwhiteEyeAllotypes = [\n    { 'notation': 'WE',      'name': 'White Eye' },\n    { 'notation': 'sWE',     'name': 'Silver White Eye' }\n]\n\n# Define lucistic special cases\nhetLeucistic = [\n    { 'name': 'Pied', 'alleles': ['W', 'p'] }\n]",
      "metadata": {
        "trusted": true
      },
      "outputs": [],
      "execution_count": 94
    },
    {
      "id": "dda1f870-c74f-4000-be54-ab1b30dee058",
      "cell_type": "markdown",
      "source": "If you want to look at more complex pairings, including outcrosses, you can also edit the bird's geneotype below. Changes to the genotype will also change the phenotype inputs, so that both types of inputs show the same bird.",
      "metadata": {}
    },
    {
      "id": "72eb778f-3287-48b1-86b1-08554631eed5",
      "cell_type": "code",
      "source": "# These functions will let us translate between genotypes and phenotypes\ndef saveGenotypeToBird(bird, geneName, genotype):\n    bird[geneName] = genotype\n\n# This converts a phenotype to a genotype in a bird\n# assuming the phenotype breeds true\ndef saveColorPhenotypeToBird(bird, phenotype, sex):\n    foundPhenotype = False\n    \n    # Check normal color genes\n    for gene in colorGenes:\n        # If the current gene we are checking matches the selected\n        # phenotype, set the genotype in the bird equal to homozygous\n        # for the color\n        if phenotype == gene['name']:\n            bird[gene['name']] = gene['notation'] + '/' + gene['notation']\n            foundPhenotype = True\n        # If the current gene we are checking does not match the phenotype\n        # we should clear the genotype for that gene\n        elif gene['name'] in bird:\n            del bird[gene['name']]\n\n    # Reset sex-linked colors to default wild type\n    if sex == 'Male':\n        bird['Sex-Linked Color'] = 'Z(WT)/Z(WT)'\n    else: \n        bird['Sex-Linked Color'] = 'Z(WT)/w'\n        \n    # Check all sex-linked allotypes the same way we checked the autosomal\n    # genes\n    for allotype in sexLinkedColorAllotypes:\n        if phenotype == allotype['name']:\n            if sex == 'Male':\n                bird['Sex-Linked Color'] = allotype['notation'] + '/' + allotype['notation']\n            else: \n                bird['Sex-Linked Color'] = allotype['notation'] + '/w'\n            foundPhenotype = True\n\n    # At this point, all color genes have been cleared\n    # except for a matched phenotype\n    # If we have found the matching phenotype already,\n    # we can stop here\n    if foundPhenotype:\n        return\n\n    # Save the phenotype data for genotypes that match multiple genes\n    for color in multiGeneColors:\n        if phenotype == color['name']:\n            # for each gene that makes up the multi-gene color\n            for colorGeneNotation in color['genes']:\n                # find that gene in the gene list and save it to the bird\n                for gene in colorGenes:\n                    if gene['notation'] == colorGeneNotation:\n                        bird[gene['name']] = gene['notation'] + '/' + gene['notation']\n\n    # Save the phoenotype data for genes that require both autosomal and sex-linked color\n    for color in sexAndAutosomalComboColors:\n        if phenotype == color['name']:\n            # Save autosomal phenotype\n            for gene in colorGenes:\n                if gene['notation'] == color['autosomalColor']:\n                    bird[gene['name']] = gene['notation'] + '/' + gene['notation']\n\n            # Save sex phenotype\n            for allotype in sexLinkedColorAllotypes:\n                if allotype['notation'] == color['sexColor']:\n                    if sex == 'Male':\n                        bird['Sex-Linked Color'] = allotype['notation'] + '/' + allotype['notation']\n                    else: \n                        bird['Sex-Linked Color'] = allotype['notation'] + '/w'\n                        \n    # Save phenotype for het sex colors\n    for color in hetSexColors:\n        if phenotype == color['name'] and sex == 'Male':\n            bird['Sex-Linked Color'] = color['alleles'][0] + '/' + color['alleles'][1]\n        \ndef getColorFromBird(bird, sex):\n    # Birds are wild type by default\n    finalBirdColor = \"Wild Type\"\n    # Because colors are not mutually exclusive, we want to track \n    # all possible colors\n    otherBirdColors = []\n    \n    # Set sex to default if not defined so we don't \n    # break things when we try to check the sex-linked color\n    if not 'Sex-Linked Color' in bird:\n        if sex == 'Male':\n            bird['Sex-Linked Color'] = 'Z(WT)/Z(WT)'\n        else: \n            bird['Sex-Linked Color'] = 'Z(WT)/w'\n    \n    # Bird color special cases/Documents/AccessAdminAssist/access-admin-assist-frontend\n    if bird['Sex-Linked Color'] == 'Z(c)/Z(pl:c)':\n        finalBirdColor = 'Cameo'\n    elif bird['Sex-Linked Color'] == 'Z(pl)/Z(pl:c)':\n        finalBirdColor = 'American Purple'\n\n    # Check if bird color matches any simple colors\n    for gene in colorGenes:\n        if gene['name'] in bird:\n            if bird[gene['name']] == gene['notation'] + '/' + gene['notation']:\n                # Add the previous bird color to a list, and change the final color\n                otherBirdColors.append(finalBirdColor)\n                finalBirdColor = gene['name']\n\n    # Check if bird color matches any sex-linked colors\n    for allotype in sexLinkedColorAllotypes:\n        if 'Sex-Linked Color' in bird and ((sex == 'Male' and bird['Sex-Linked Color'] == allotype['notation'] + '/' + allotype['notation']) or\n            (sex == 'Female' and bird['Sex-Linked Color'] == allotype['notation'] + '/w')):\n            # Add the previous bird color to a list, and change the final color\n            otherBirdColors.append(finalBirdColor)\n            finalBirdColor = allotype['name']\n\n    # Check bird color matches sexAndAutosomal Combo\n    for color in sexAndAutosomalComboColors:\n        matchesAll = True\n        \n        for gene in colorGenes:\n            # If the current gene is part of the color\n            if (gene['notation'] == color['autosomalColor'] and \n                # and the current gene is NOT in the bird\n                (not gene['name'] in bird or \n                bird[gene['name']] != gene['notation'] + '/' + gene['notation'])):\n                # then we know the bird does NOT have the color, and we do not \n                # have to check any other genes\n                matchesAll = False\n                break\n\n        # If we did not find an autosomal gene, we don't need to check the\n        # sex-linked genes\n        if not matchesAll:\n            continue\n        \n        for allotype in sexLinkedColorAllotypes:\n            # If the current gene is part of the color\n            if (allotype['notation'] == color['sexColor'] and \n                # and the current gene is NOT in the bird\n                (not 'Sex-Linked Color' in bird or \n                 (sex == 'Male' and bird['Sex-Linked Color'] != allotype['notation'] + '/' + allotype['notation']) or\n                 (sex == 'Female' and bird['Sex-Linked Color'] != allotype['notation'] + '/w'))):\n                matchesAll = False\n                break\n\n        # If matchesAllGenes is still true here, we know the bird must have\n            # all the needed genes for the color\n        if matchesAll:\n            # Add the previous bird color to a list, and change the final color\n            otherBirdColors.append(finalBirdColor)\n            finalBirdColor = color['name']\n                \n\n    # Check bird color matches multi-gene color\n    for color in multiGeneColors:\n        # Make sure all genes needed to make the color are availible in the bird\n        matchesAllGenes = True\n        for gene in colorGenes:\n            # If the current gene is part of the color\n            if (gene['notation'] in color['genes'] and \n                # and the current gene is NOT in the bird\n                ( not gene['name'] in bird or \n                bird[gene['name']] != gene['notation'] + '/' + gene['notation'])):\n                # then we know the bird does NOT have the color, and we do not \n                # have to check any other genes\n                matchesAllGenes = False\n                break\n\n        # If matchesAllGenes is still true here, we know the bird must have\n        # all the needed genes for the color\n        if matchesAllGenes:\n            # Add the previous bird color to a list, and change the final color\n            otherBirdColors.append(finalBirdColor)\n            finalBirdColor = color['name']\n\n    for color in hetSexColors:\n        if bird['Sex-Linked Color'] == color['alleles'][0] + '/' + color['alleles'][1]:\n            # Add the previous bird color to a list, and change the final color\n            otherBirdColors.append(finalBirdColor)\n            finalBirdColor = color['name']\n\n    return (finalBirdColor, otherBirdColors)\n\nsaveColorPhenotypeToBird({}, \"Opal\", \"Male\")",
      "metadata": {
        "trusted": true
      },
      "outputs": [],
      "execution_count": 147
    },
    {
      "id": "38830c6f-c546-4773-a85a-1b48c78fe883",
      "cell_type": "code",
      "source": "# This function creates a handful of widgets that\n# allow users to select the phenotype of a bird\n# If we then assume all traits breed true, we\n# can generate a genotype without making the\n# user understand bird genetics\ndef createPeacockPhenotypeWidgets(peacockName):\n    colorList = (['Wild Type'] + \n        # TECH EXPLANATION\n        # lambda indicates an inline function\n        # map() means that the lambda function is called for each item in the colorGenes array\n        # It converts each gene's dictionary into just the name column\n        # list() turns that map back into an array\n        # The goal here is to make sure all genes show up as human readable options \n        # in the list, and they don't get out of sync with each other\n        list(map(lambda gene: gene['name'], colorGenes)) + \n        list(map(lambda allotype: allotype['name'], sexLinkedColorAllotypes)) +\n        list(map(lambda phenotype: phenotype['name'], multiGeneColors)) +\n        list(map(lambda phenotype: phenotype['name'], sexAndAutosomalComboColors)) +\n        list(map(lambda phenotype: phenotype['name'], hetSexColors)))\n        \n    \n    color = widgets.Dropdown(\n        options=colorList,\n        value=colorList[0],\n        description='Color:',\n        disabled=False,\n    )\n\n    # See colorList for technical explanation\n    patternList = (['Barred Wing Wild Type'] +\n        list(map(lambda gene: gene['name'], patternGenes)))\n    pattern = widgets.Dropdown(\n        options=patternList,\n        value=patternList[0],\n        description='Pattern:',\n        disabled=False,\n    )\n    \n    # See colorList for technical explanation\n    leucisticList = (['Non-Leucistic Wild Type'] +\n       list(map(lambda allotype: allotype['name'], piedAllotypes)) +\n       list(map(lambda allotype: allotype['name'], whiteEyeAllotypes)) +\n       list(map(lambda phenotype: phenotype['name'], hetLeucistic)))\n    \n    leucistic = widgets.Dropdown(\n        options=leucisticList,\n        value=leucisticList[0],\n        description='Leucistic:',\n        disabled=False,\n    )\n\n    return (\n        widgets.VBox([\n            widgets.Label(value=peacockName),\n            color, pattern, leucistic\n        ]),\n        {\n            'color': color,\n            'pattern': pattern,\n            'leucistic': leucistic\n        }\n    )",
      "metadata": {
        "trusted": true
      },
      "outputs": [],
      "execution_count": 143
    },
    {
      "id": "c1634c9f-266b-4a5c-8304-b7e5814a02dc",
      "cell_type": "code",
      "source": "# This lets us turn a single gene into a genotype widget\n# We will run this function over all the autosomal color genes\n# and the shoulder genes to generate appropriate widgets\ndef createGenotypeWidgetFromGene(gene):\n    possibilities = [\n        'WT/WT', \n        'WT/' + gene['notation'],\n        gene['notation'] + '/' + gene['notation']\n    ]\n    return widgets.Dropdown(\n        options=possibilities,\n        value=possibilities[0],\n        description=gene['name'] + ':',\n        disabled=False,\n    )\n\n# For sex-linked genes, we want to change the genotype based on sex,\n# and treat different allotypes as mutually exclusive\ndef createSexLinkedGeneWidget(allotypes, sex):\n    allotypesWithWild = [{ 'notation': 'Z(WT)',    'name': 'Wild Type' }] + allotypes\n    possibilities = []\n\n    # Iterate through each allotype as a possible first allele.\n    # In this case, we use enumerate instead of a normal for each loop so we can limit\n    # the loop of the second allele and prevent duplicate genotypes\n    for index, firstAllele in enumerate(allotypesWithWild):\n        if sex == 'Male':\n            # For males, iterate through each allotype starting with the firstAllele as a possible second allele\n            # This gives us every possible combination of alleles without duplicates \n            # You can think of it as the top trianlge of a possibilities square\n            # The [index:] selects all items in the list starting with the same item as the current firstAllele\n            for secondAllele in allotypesWithWild[index:]:\n                possibilities.append(firstAllele['notation'] + '/' + secondAllele['notation'])\n        else:\n            # For females just add the missing sex chromasome 'w' to the first allele\n            possibilities.append(firstAllele['notation'] + '/w');\n    \n    return widgets.Dropdown(\n        options=possibilities,\n        value=possibilities[0],\n        description='Sex-Linked Color:',\n        disabled=False,\n    )\n\n# Used for troubleshooting bugs with print()\noutput = widgets.Output()\n\n# When genotype changes, update the related phenotype\ndef handleGenotypeColorChange(phenotypeWidget, bird, sex, geneName, newColor):\n    with output:\n        saveGenotypeToBird(bird, geneName, newColor)\n        (color, prevColors) = getColorFromBird(bird, sex)\n\n        # Set the index and the value of the phenotype widget to match the new color\n        # We have to set both, or else the display won't update properly\n        phenotypeWidget.index = phenotypeWidget.options.index(color)\n        phenotypeWidget.value = color\n\ndef handlePhenotypeColorChange(thisWidget, genotypeWidgets, bird, sex, phenotype):\n    with output:\n        saveColorPhenotypeToBird(bird, phenotype, sex)\n        # We may need to change multiple genotype widgets in order to match the \n        # current phenotype.\n        # We don't want the phenotype widget to be altered by half-finished changes, so we\n        # need to temorarily prevent the phenotype from changing when the genotype changes\n        thisWidget.unobserve(None, 'value')\n\n        # Then we need to change all the relevant genotype widgets\n        for widget in genotypeWidgets:\n            if widget.description[:-1] in bird:\n                widget.value = bird[widget.description[:-1]]\n            else:\n                widget.value = \"WT/WT\"\n\n        # Once all changes are made, we need to re-build the observer\n        thisWidget.observe(lambda changedValue: handlePhenotypeColorChange(thisWidget, genotypeWidgets, bird, sex, changedValue['new']), 'value')\n\ndef createPeacockGenotypeWidgets(peacockName, sex, phenotypeWidgets):\n    bird = {}\n    \n    # For each possible color, create a widget with genotype options\n    colors = []\n    for gene in colorGenes:\n        widget = createGenotypeWidgetFromGene(gene)\n        colors.append(widget)\n        # This updates the color phenotype whenever any color genotype changes\n        widget.observe(lambda changedValue, geneName=gene['name']: handleGenotypeColorChange(phenotypeWidgets['color'], bird, sex, geneName, changedValue['new']), 'value')\n\n    # Create a single widget for all the sex-linked color varients\n    sexLinkedColor = createSexLinkedGeneWidget(sexLinkedColorAllotypes, sex)\n    # This updates the phenotype whenever the sex-linked color genotype changes\n    sexLinkedColor.observe(lambda changedValue, sex=sex: handleGenotypeColorChange(phenotypeWidgets['color'], bird, sex, 'Sex-Linked Color', changedValue['new']), 'value')\n\n    # This updates the genotype(s) when the phenotype changes\n    phenotypeWidgets['color'].observe(lambda changedValue: handlePhenotypeColorChange(phenotypeWidgets['color'], colors + [sexLinkedColor], bird, sex, changedValue['new']), 'value')\n\n    return (\n        widgets.VBox([widgets.Label(value=peacockName)] + colors + [sexLinkedColor]),\n        {\n            'colors': colors,\n            'sexLinkedColor': sexLinkedColor\n        }\n    )\n\ndisplay(widgets.Label(value=\"Enter phsyical traits for a breeding pair of peacocks. Note: Traits with multiple genotypes will be assumed to be homozygous ie breed true\"))\n(maleWidgetsBox, maleWidgets) = createPeacockPhenotypeWidgets(\"Male Peacock\")\n(femaleWidgetsBox, femaleWidgets) = createPeacockPhenotypeWidgets(\"Female Peacock\")\ndisplay(widgets.HBox([maleWidgetsBox,femaleWidgetsBox]))\n\ndisplay(widgets.Label(value=\"Or edit the genotype of the birds directly:\"))\n(maleWidgets, maleGenotypeData) = createPeacockGenotypeWidgets(\"Male Peacock\", 'Male', maleWidgets)\n(femaleWidgets, femaleGenotypeData) = createPeacockGenotypeWidgets(\"Female Peacock\", 'Female', femaleWidgets)\ndisplay(widgets.HBox([maleWidgets,femaleWidgets]))\ndisplay(output)",
      "metadata": {
        "trusted": true
      },
      "outputs": [
        {
          "output_type": "display_data",
          "data": {
            "text/plain": "Label(value='Enter phsyical traits for a breeding pair of peafowl. Note: Traits with multiple genotypes will …",
            "application/vnd.jupyter.widget-view+json": {
              "version_major": 2,
              "version_minor": 0,
              "model_id": "424c464f0a2642a28ddc9783bb401e5a"
            }
          },
          "metadata": {}
        },
        {
          "output_type": "display_data",
          "data": {
            "text/plain": "HBox(children=(VBox(children=(Label(value='Male Peacock'), Dropdown(description='Color:', options=('Wild Type'…",
            "application/vnd.jupyter.widget-view+json": {
              "version_major": 2,
              "version_minor": 0,
              "model_id": "4c8818ab3209437692d8688e1bc03af8"
            }
          },
          "metadata": {}
        },
        {
          "output_type": "display_data",
          "data": {
            "text/plain": "Label(value='Or edit the genotype of the birds directly:')",
            "application/vnd.jupyter.widget-view+json": {
              "version_major": 2,
              "version_minor": 0,
              "model_id": "c71203d34a70426f8fb06842dc2abbbe"
            }
          },
          "metadata": {}
        },
        {
          "output_type": "display_data",
          "data": {
            "text/plain": "HBox(children=(VBox(children=(Label(value='Male Peacock'), Dropdown(description='Bronze:', options=('WT/WT', '…",
            "application/vnd.jupyter.widget-view+json": {
              "version_major": 2,
              "version_minor": 0,
              "model_id": "dd09fdba59ee4d0a891b2566d83d07bd"
            }
          },
          "metadata": {}
        },
        {
          "output_type": "display_data",
          "data": {
            "text/plain": "Output()",
            "application/vnd.jupyter.widget-view+json": {
              "version_major": 2,
              "version_minor": 0,
              "model_id": "fb304e412820464daab4c5fdec4a0251"
            }
          },
          "metadata": {}
        }
      ],
      "execution_count": 153
    },
    {
      "id": "eda3c93c-baf7-4133-8906-e65db70b8e89",
      "cell_type": "code",
      "source": "",
      "metadata": {
        "trusted": true
      },
      "outputs": [],
      "execution_count": null
    },
    {
      "id": "8644ec7f-6129-4271-bf7d-4df4412f7db2",
      "cell_type": "code",
      "source": "",
      "metadata": {
        "trusted": true
      },
      "outputs": [],
      "execution_count": null
    }
  ]
}
