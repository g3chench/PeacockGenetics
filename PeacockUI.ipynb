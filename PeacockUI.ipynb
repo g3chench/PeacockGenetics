{
 "cells": [
  {
   "cell_type": "markdown",
   "id": "39ab4897-c8b7-4d4a-98c9-7e42af783929",
   "metadata": {},
   "source": [
    "# Peacock Creator\n",
    "\n",
    "Use this notebook to create peacocks and visualize the results of breeding pairs, and to see the possible genetic makeup of various peacocks"
   ]
  },
  {
   "cell_type": "markdown",
   "id": "16c575cc-e2c2-46b3-a10a-9f9953567240",
   "metadata": {},
   "source": [
    "The following code installs all neccessary code libraries for the visualization"
   ]
  },
  {
   "cell_type": "code",
   "execution_count": 17,
   "id": "52d74091-8e42-4270-b2e1-c07b313e9a93",
   "metadata": {},
   "outputs": [
    {
     "name": "stderr",
     "output_type": "stream",
     "text": [
      "\n",
      "[notice] A new release of pip is available: 23.3.2 -> 25.0.1\n",
      "[notice] To update, run: pip install --upgrade pip\n",
      "\r"
     ]
    },
    {
     "name": "stdout",
     "output_type": "stream",
     "text": [
      "Note: you may need to restart the kernel to use updated packages.\n"
     ]
    }
   ],
   "source": [
    "%pip install -q ipywidgets"
   ]
  },
  {
   "cell_type": "code",
   "execution_count": 18,
   "id": "135fd673-3280-4ad3-978c-9d8ccf783c44",
   "metadata": {},
   "outputs": [],
   "source": [
    "import ipywidgets as widgets"
   ]
  },
  {
   "cell_type": "markdown",
   "id": "924fa4ab-80c8-4d48-93f0-5e5803c197f9",
   "metadata": {},
   "source": [
    "Use the following widget to add unique features to a peacock, and select the peacock's sex.  Any features that are not added to the peacock will be assumed to be wild type"
   ]
  },
  {
   "cell_type": "code",
   "execution_count": 19,
   "id": "39b19dbd-9492-47e8-a8fc-d3ca91226699",
   "metadata": {},
   "outputs": [],
   "source": [
    "# Define color genes\n",
    "colorGenes = [\n",
    "    # Note: the \"default\" gene aka Wild Type is not included because it is a special\n",
    "    # case that can apply to alleles of any gene\n",
    "    { 'notation': 'br',      'name': 'Bronze' },\n",
    "    { 'notation': 'o',       'name': 'Opal' },\n",
    "    { 'notation': 'md',      'name': 'Midnight' },\n",
    "    { 'notation': 'j',       'name': 'Jade' },\n",
    "    { 'notation': 'mo',      'name': 'Montana' },\n",
    "    { 'notation': 'ch',      'name': 'Charcoal' },\n",
    "    { 'notation': 'st',      'name': 'Steel' },\n",
    "    { 'notation': 'um',      'name': 'Ultramarine' },\n",
    "    { 'notation': 'bu',      'name': 'Burnt Umber' }\n",
    "]\n",
    "\n",
    "sexLinkedColorAllotypes = [\n",
    "    { 'notation': 'Z(c)',    'name': 'Cameo' },\n",
    "    { 'notation': 'Z(pl)',   'name': 'American Purple' },\n",
    "    { 'notation': 'Z(va)',   'name': 'Sonja\\'s Violet' },\n",
    "    { 'notation': 'Z(ve)',   'name': 'European Violet' },\n",
    "    # Note: even though peach is actually 2 genes, we are treating\n",
    "    # it as one for the sake of this code, and dealing with het Peach\n",
    "    # as a special phenotype\n",
    "    { 'notation': 'Z(pl:c)', 'name': 'Peach' }\n",
    "]\n",
    "\n",
    "# Define what genes combinations form special colors\n",
    "multiGeneColors = [\n",
    "    { 'name': 'Platinum',      'genes': ['br', 'o']}\n",
    "]\n",
    "\n",
    "sexAndAutosomalComboColors = [\n",
    "    { 'name': 'Taupe',         'autosomalColor': 'o',  'sexColor': 'Z(pl)' },\n",
    "    { 'name': 'Mocha',         'autosomalColor': 'md', 'sexColor': 'Z(pl)' },\n",
    "    { 'name': 'Ivory',         'autosomalColor': 'o',  'sexColor': 'Z(c)' },\n",
    "    { 'name': 'Indigo',        'autosomalColor': 'br', 'sexColor': 'Z(pl)' },\n",
    "    { 'name': 'Hazel',         'autosomalColor': 'br', 'sexColor': 'Z(pl)' }\n",
    "]\n",
    "\n",
    "hetSexColors = [\n",
    "    { 'name': 'Midway between Violet and Purple', 'alleles': ['Z(pl)', 'Z(ve)'] }\n",
    "]\n",
    "\n",
    "# Define pattern genes\n",
    "patternGenes = [\n",
    "    { 'notation': 'bs',      'name': 'Blackshoulder' }\n",
    "]\n",
    "\n",
    "# Define leucistic genes\n",
    "leucisticGenes = [\n",
    "    { 'notation': 'p',       'name': 'Pied' },\n",
    "    { 'notation': 'WE',       'name': 'White Eye' }\n",
    "]\n",
    "\n",
    "piedAllotypes = [\n",
    "    { 'notation': 'p',       'name': 'Dark Pied' },\n",
    "    { 'notation': 'W',       'name': 'White' }\n",
    "]\n",
    "\n",
    "whiteEyeAllotypes = [\n",
    "    { 'notation': 'WE',      'name': 'White Eye' },\n",
    "    { 'notation': 'sWE',     'name': 'Silver White Eye' }\n",
    "]\n",
    "\n",
    "# Define lucistic special cases\n",
    "hetLeucistic = [\n",
    "    { 'name': 'Pied', 'alleles': ['W', 'p'] }\n",
    "]"
   ]
  },
  {
   "cell_type": "code",
   "execution_count": 23,
   "id": "76102537-dbff-4e81-9b78-2488d9f0d3db",
   "metadata": {},
   "outputs": [
    {
     "data": {
      "application/vnd.jupyter.widget-view+json": {
       "model_id": "4c3106e092cd451b9b760b112c566e0a",
       "version_major": 2,
       "version_minor": 0
      },
      "text/plain": [
       "Label(value='Enter phsyical traits for a breeding pair of peacocks. Note: All traits will be assumed to breed â¦"
      ]
     },
     "metadata": {},
     "output_type": "display_data"
    },
    {
     "data": {
      "application/vnd.jupyter.widget-view+json": {
       "model_id": "1a46bea9d11044f1883fb0f41b930546",
       "version_major": 2,
       "version_minor": 0
      },
      "text/plain": [
       "HBox(children=(VBox(children=(Label(value='Male Peacock'), Dropdown(description='Color:', options=('Wild Type'â¦"
      ]
     },
     "metadata": {},
     "output_type": "display_data"
    }
   ],
   "source": [
    "# This function creates a handful of widgets that\n",
    "# allow users to select the phenotype of a bird\n",
    "# If we then assume all traits breed true, we\n",
    "# can generate a genotype without making the\n",
    "# user understand bird genetics\n",
    "def createPeacockPhenotypeWidgets(peacockName):\n",
    "    colorList = (['Wild Type'] + \n",
    "        # TECH EXPLANATION\n",
    "        # lambda indicates an inline function\n",
    "        # map() means that the lambda function is called for each item in the colorGenes array\n",
    "        # It converts each gene's dictionary into just the name column\n",
    "        # list() turns that map back into an array\n",
    "        # The goal here is to make sure all genes show up as human readable options \n",
    "        # in the list, and they don't get out of sync with each other\n",
    "        list(map(lambda gene: gene['name'], colorGenes)) + \n",
    "        list(map(lambda allotype: allotype['name'], sexLinkedColorAllotypes)) +\n",
    "        list(map(lambda phenotype: phenotype['name'], multiGeneColors)) +\n",
    "        list(map(lambda phenotype: phenotype['name'], sexAndAutosomalComboColors)) +\n",
    "        list(map(lambda phenotype: phenotype['name'], hetSexColors)))\n",
    "        \n",
    "    \n",
    "    color = widgets.Dropdown(\n",
    "        options=colorList,\n",
    "        value=colorList[0],\n",
    "        description='Color:',\n",
    "        disabled=False,\n",
    "    )\n",
    "\n",
    "    # See colorList for technical explanation\n",
    "    patternList = (['Barred Wing Wild Type'] +\n",
    "        list(map(lambda gene: gene['name'], patternGenes)))\n",
    "    pattern = widgets.Dropdown(\n",
    "        options=patternList,\n",
    "        value=patternList[0],\n",
    "        description='Pattern:',\n",
    "        disabled=False,\n",
    "    )\n",
    "    \n",
    "    # See colorList for technical explanation\n",
    "    leucisticList = (['Non-Leucistic Wild Type'] +\n",
    "       list(map(lambda allotype: allotype['name'], piedAllotypes)) +\n",
    "       list(map(lambda allotype: allotype['name'], whiteEyeAllotypes)) +\n",
    "       list(map(lambda phenotype: phenotype['name'], hetLeucistic)))\n",
    "    \n",
    "    leucistic = widgets.Dropdown(\n",
    "        options=leucisticList,\n",
    "        value=leucisticList[0],\n",
    "        description='Leucistic:',\n",
    "        disabled=False,\n",
    "    )\n",
    "\n",
    "    return (\n",
    "        widgets.VBox([\n",
    "            widgets.Label(value=peacockName),\n",
    "            color, pattern, leucistic\n",
    "        ]),\n",
    "        {\n",
    "            'color': color,\n",
    "            'pattern': pattern,\n",
    "            'leucistic': leucistic\n",
    "        }\n",
    "    )\n",
    "\n",
    "display(widgets.Label(value=\"Enter phsyical traits for a breeding pair of peacocks. Note: All traits will be assumed to breed true\"))\n",
    "(maleWidgetsBox, maleWidgets) = createPeacockPhenotypeWidgets(\"Male Peacock\")\n",
    "(femaleWidgetsBox, femaleWidgets) = createPeacockPhenotypeWidgets(\"Female Peacock\")\n",
    "display(widgets.HBox([maleWidgetsBox,femaleWidgetsBox]))"
   ]
  },
  {
   "cell_type": "markdown",
   "id": "dda1f870-c74f-4000-be54-ab1b30dee058",
   "metadata": {},
   "source": [
    "If you want to look at more complex pairings, including outcrosses, you can also edit the bird's geneotype below. Changes to the genotype will also change the phenotype inputs, so that both types of inputs show the same bird."
   ]
  },
  {
   "cell_type": "code",
   "execution_count": 2,
   "id": "72eb778f-3287-48b1-86b1-08554631eed5",
   "metadata": {},
   "outputs": [
    {
     "ename": "SyntaxError",
     "evalue": "'[' was never closed (1940757381.py, line 27)",
     "output_type": "error",
     "traceback": [
      "\u001b[0;36m  Cell \u001b[0;32mIn[2], line 27\u001b[0;36m\u001b[0m\n\u001b[0;31m    del bird[gene['name']\u001b[0m\n\u001b[0m            ^\u001b[0m\n\u001b[0;31mSyntaxError\u001b[0m\u001b[0;31m:\u001b[0m '[' was never closed\n"
     ]
    }
   ],
   "source": [
    "# This lets us turn a single gene into a genotype widget\n",
    "# We will run this function over all the autosomal color genes\n",
    "# and the shoulder genes to generate appr\n",
    "def createGenotypeWidgetFromGene(gene):\n",
    "    possibilities = [\n",
    "        'WT/WT', \n",
    "        'WT/' + gene['notation'],\n",
    "        gene['notation'] + '/' + gene['notation']\n",
    "    ]\n",
    "    return widgets.Dropdown(\n",
    "        options=possibilities,\n",
    "        value=possibilities[0],\n",
    "        description=gene['name'] + ':',\n",
    "        disabled=False,\n",
    "    )\n",
    "\n",
    "def saveGenotypeToBird(bird, geneName, genotype):\n",
    "    bird[geneName] = genotype\n",
    "\n",
    "# This converts a phenotype to a genotype in a bird\n",
    "# assuming the phenotype breeds true\n",
    "def saveColorPhenotypeToBird(bird, phenotype, sex):\n",
    "    foundPhenotype = False\n",
    "    \n",
    "    # Check normal color genes\n",
    "    for gene in colorGenes:\n",
    "        # If the current gene we are checking matches the selected\n",
    "        # phenotype, set the genotype in the bird equal to homozygous\n",
    "        # for the color\n",
    "        if phenotype == gene['name']:\n",
    "            bird[phenotype] = gene['notation'] + '/' + gene['notation']\n",
    "            foundPhenotype = True\n",
    "        # If the current gene we are checking does not match the phenotype\n",
    "        # we should clear the genotype for that gene\n",
    "        else:\n",
    "            del bird[gene['name']]\n",
    "\n",
    "    # Reset sex-linked colors to default wild type\n",
    "    if sex == 'Male':\n",
    "        bird['sex'] = 'Z(WT)/Z(WT)'\n",
    "    else: \n",
    "        bird['sex'] = 'Z(WT)/w'\n",
    "        \n",
    "    # Check all sex-linked allotypes the same way we checked the autosomal\n",
    "    # genes\n",
    "    for allotype in sexLinkedColorAllotypes:\n",
    "        if phenotype == allotype['name']:\n",
    "            if sex == 'Male':\n",
    "                bird['sex'] = allotype['notation'] + '/' + gene['notation']\n",
    "            else: \n",
    "                bird['sex'] = allotype['notation'] + '/w'\n",
    "            foundPhenotype = True\n",
    "\n",
    "    # At this point, all color genes have been cleared\n",
    "    # except for a matched phenotype\n",
    "    # If we have found the matching phenotype already,\n",
    "    # we can stop here\n",
    "  \n",
    "\n",
    "def getColorFromBird(bird):"
   ]
  },
  {
   "cell_type": "code",
   "execution_count": 21,
   "id": "c1634c9f-266b-4a5c-8304-b7e5814a02dc",
   "metadata": {},
   "outputs": [
    {
     "ename": "SyntaxError",
     "evalue": "incomplete input (2756517185.py, line 2)",
     "output_type": "error",
     "traceback": [
      "\u001b[0;36m  Cell \u001b[0;32mIn[21], line 2\u001b[0;36m\u001b[0m\n\u001b[0;31m    \u001b[0m\n\u001b[0m    ^\u001b[0m\n\u001b[0;31mSyntaxError\u001b[0m\u001b[0;31m:\u001b[0m incomplete input\n"
     ]
    }
   ],
   "source": [
    "def createPeacockPhenotypeWidgets(peacockName):\n",
    "    colorWidgets = list(map(lambda gene: "
   ]
  },
  {
   "cell_type": "code",
   "execution_count": null,
   "id": "9e901d11-ffb0-4319-ad53-308c5f9cd1ed",
   "metadata": {},
   "outputs": [],
   "source": []
  },
  {
   "cell_type": "code",
   "execution_count": null,
   "id": "8d39f0a1-2eb8-4b82-96c2-4728ccd40c6b",
   "metadata": {},
   "outputs": [],
   "source": []
  }
 ],
 "metadata": {
  "kernelspec": {
   "display_name": "Python 3 (ipykernel)",
   "language": "python",
   "name": "python3"
  },
  "language_info": {
   "codemirror_mode": {
    "name": "ipython",
    "version": 3
   },
   "file_extension": ".py",
   "mimetype": "text/x-python",
   "name": "python",
   "nbconvert_exporter": "python",
   "pygments_lexer": "ipython3",
   "version": "3.11.0"
  }
 },
 "nbformat": 4,
 "nbformat_minor": 5
}
